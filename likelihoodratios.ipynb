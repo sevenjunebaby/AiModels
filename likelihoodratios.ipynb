{
  "cells": [
    {
      "cell_type": "markdown",
      "metadata": {
        "colab_type": "text",
        "id": "view-in-github"
      },
      "source": [
        "<a href=\"https://colab.research.google.com/github/sevenjunebaby/AiModels/blob/main/likelihoodratios.ipynb\" target=\"_parent\"><img src=\"https://colab.research.google.com/assets/colab-badge.svg\" alt=\"Open In Colab\"/></a>"
      ]
    },
    {
      "cell_type": "markdown",
      "metadata": {
        "id": "yWThHh4PN7Lr"
      },
      "source": [
        "# **Pre-test vs. post-test analysis**"
      ]
    },
    {
      "cell_type": "markdown",
      "metadata": {
        "id": "y5omgtZlP9Ls"
      },
      "source": [
        "In the context of disease diagnosis, the pre-test and post-test analysis refers to the evaluation of a machine learning model's performance in predicting the presence of a disease.\n",
        "\n",
        "Pre-test probability: This is the probability of a person having the disease before taking a test. In this example, it's around 10.37% (10% of the population has the disease).\n",
        "Post-test probability: This is the probability of a person having the disease after taking a test. The positive likelihood ratio (LR+) is used to calculate the post-test probability."
      ]
    },
    {
      "cell_type": "markdown",
      "metadata": {
        "id": "RUUk1dG8QBfb"
      },
      "source": [
        "**EXEMPLE**"
      ]
    },
    {
      "cell_type": "code",
      "execution_count": 6,
      "metadata": {
        "colab": {
          "base_uri": "https://localhost:8080/"
        },
        "id": "AWOqgw2UQHTg",
        "outputId": "b947fcb8-bdd7-4d3f-c011-52dde579a6a2"
      },
      "outputs": [
        {
          "name": "stdout",
          "output_type": "stream",
          "text": [
            "LR+: 12.617\n"
          ]
        }
      ],
      "source": [
        "from sklearn.datasets import make_classification\n",
        "from sklearn.model_selection import train_test_split\n",
        "from sklearn.linear_model import LogisticRegression\n",
        "from sklearn.metrics import class_likelihood_ratios\n",
        "\n",
        "# Generate a classification dataset\n",
        "X, y = make_classification(n_samples=10_000, weights=[0.9, 0.1], random_state=0)\n",
        "\n",
        "# Split the data into training and test sets\n",
        "X_train, X_test, y_train, y_test = train_test_split(X, y, random_state=0)\n",
        "\n",
        "# Train a logistic regression model\n",
        "estimator = LogisticRegression().fit(X_train, y_train)\n",
        "\n",
        "# Predict the test set\n",
        "y_pred = estimator.predict(X_test)\n",
        "\n",
        "# Compute the positive likelihood ratio\n",
        "pos_LR, neg_LR = class_likelihood_ratios(y_test, y_pred)\n",
        "print(f\"LR+: {pos_LR:.3f}\")"
      ]
    },
    {
      "cell_type": "markdown",
      "metadata": {},
      "source": [
        "🔬 1. What are Likelihood Ratios? In diagnostic testing:\n",
        "\n",
        "Positive Likelihood Ratio (LR+) = Sensitivity / (1 - Specificity)\n",
        "\n",
        "→ How much more likely a positive result is in someone with the disease compared to someone without.\n",
        "\n",
        "Negative Likelihood Ratio (LR−) = (1 - Sensitivity) / Specificity\n",
        "\n",
        "→ How much less likely a negative result is in someone with the disease compared to someone without.\n",
        "\n",
        "An LR+ > 10 and LR− < 0.1 usually indicate a useful diagnostic test."
      ]
    },
    {
      "cell_type": "code",
      "execution_count": 7,
      "metadata": {},
      "outputs": [],
      "source": [
        "import pandas as pd\n",
        "\n",
        "\n",
        "def scoring(estimator, X, y):\n",
        "    y_pred = estimator.predict(X)\n",
        "    pos_lr, neg_lr = class_likelihood_ratios(y, y_pred, raise_warning=False)\n",
        "    return {\"positive_likelihood_ratio\": pos_lr, \"negative_likelihood_ratio\": neg_lr}\n",
        "\n",
        "\n",
        "def extract_score(cv_results):\n",
        "    lr = pd.DataFrame(\n",
        "        {\n",
        "            \"positive\": cv_results[\"test_positive_likelihood_ratio\"],\n",
        "            \"negative\": cv_results[\"test_negative_likelihood_ratio\"],\n",
        "        }\n",
        "    )\n",
        "    return lr.aggregate([\"mean\", \"std\"])"
      ]
    },
    {
      "cell_type": "code",
      "execution_count": 8,
      "metadata": {},
      "outputs": [
        {
          "data": {
            "text/html": [
              "<div>\n",
              "<style scoped>\n",
              "    .dataframe tbody tr th:only-of-type {\n",
              "        vertical-align: middle;\n",
              "    }\n",
              "\n",
              "    .dataframe tbody tr th {\n",
              "        vertical-align: top;\n",
              "    }\n",
              "\n",
              "    .dataframe thead th {\n",
              "        text-align: right;\n",
              "    }\n",
              "</style>\n",
              "<table border=\"1\" class=\"dataframe\">\n",
              "  <thead>\n",
              "    <tr style=\"text-align: right;\">\n",
              "      <th></th>\n",
              "      <th>positive</th>\n",
              "      <th>negative</th>\n",
              "    </tr>\n",
              "  </thead>\n",
              "  <tbody>\n",
              "    <tr>\n",
              "      <th>mean</th>\n",
              "      <td>NaN</td>\n",
              "      <td>1.0</td>\n",
              "    </tr>\n",
              "    <tr>\n",
              "      <th>std</th>\n",
              "      <td>NaN</td>\n",
              "      <td>0.0</td>\n",
              "    </tr>\n",
              "  </tbody>\n",
              "</table>\n",
              "</div>"
            ],
            "text/plain": [
              "      positive  negative\n",
              "mean       NaN       1.0\n",
              "std        NaN       0.0"
            ]
          },
          "execution_count": 8,
          "metadata": {},
          "output_type": "execute_result"
        }
      ],
      "source": [
        "from sklearn.model_selection import cross_validate\n",
        "from sklearn.dummy import DummyClassifier\n",
        "estimator = DummyClassifier(strategy=\"most_frequent\")\n",
        "extract_score(cross_validate(estimator, X, y, scoring=scoring, cv=10))"
      ]
    },
    {
      "cell_type": "markdown",
      "metadata": {},
      "source": [
        "## Invariance with respect to prevalence\n"
      ]
    }
  ],
  "metadata": {
    "colab": {
      "authorship_tag": "ABX9TyMScQVgpbt/QW4exZEV2JxX",
      "include_colab_link": true,
      "provenance": []
    },
    "kernelspec": {
      "display_name": "Python 3",
      "name": "python3"
    },
    "language_info": {
      "codemirror_mode": {
        "name": "ipython",
        "version": 3
      },
      "file_extension": ".py",
      "mimetype": "text/x-python",
      "name": "python",
      "nbconvert_exporter": "python",
      "pygments_lexer": "ipython3",
      "version": "3.10.12"
    }
  },
  "nbformat": 4,
  "nbformat_minor": 0
}
