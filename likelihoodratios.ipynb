{
  "nbformat": 4,
  "nbformat_minor": 0,
  "metadata": {
    "colab": {
      "provenance": [],
      "authorship_tag": "ABX9TyMScQVgpbt/QW4exZEV2JxX",
      "include_colab_link": true
    },
    "kernelspec": {
      "name": "python3",
      "display_name": "Python 3"
    },
    "language_info": {
      "name": "python"
    }
  },
  "cells": [
    {
      "cell_type": "markdown",
      "metadata": {
        "id": "view-in-github",
        "colab_type": "text"
      },
      "source": [
        "<a href=\"https://colab.research.google.com/github/sevenjunebaby/AiModels/blob/main/likelihoodratios.ipynb\" target=\"_parent\"><img src=\"https://colab.research.google.com/assets/colab-badge.svg\" alt=\"Open In Colab\"/></a>"
      ]
    },
    {
      "cell_type": "markdown",
      "source": [
        "# **Pre-test vs. post-test analysis**"
      ],
      "metadata": {
        "id": "yWThHh4PN7Lr"
      }
    },
    {
      "cell_type": "markdown",
      "source": [
        "In the context of disease diagnosis, the pre-test and post-test analysis refers to the evaluation of a machine learning model's performance in predicting the presence of a disease.\n",
        "\n",
        "Pre-test probability: This is the probability of a person having the disease before taking a test. In this example, it's around 10.37% (10% of the population has the disease).\n",
        "Post-test probability: This is the probability of a person having the disease after taking a test. The positive likelihood ratio (LR+) is used to calculate the post-test probability."
      ],
      "metadata": {
        "id": "y5omgtZlP9Ls"
      }
    },
    {
      "cell_type": "markdown",
      "source": [
        "**EXEMPLE**"
      ],
      "metadata": {
        "id": "RUUk1dG8QBfb"
      }
    },
    {
      "cell_type": "code",
      "source": [
        "from sklearn.datasets import make_classification\n",
        "from sklearn.model_selection import train_test_split\n",
        "from sklearn.linear_model import LogisticRegression\n",
        "from sklearn.metrics import class_likelihood_ratios\n",
        "\n",
        "# Generate a classification dataset\n",
        "X, y = make_classification(n_samples=10_000, weights=[0.9, 0.1], random_state=0)\n",
        "\n",
        "# Split the data into training and test sets\n",
        "X_train, X_test, y_train, y_test = train_test_split(X, y, random_state=0)\n",
        "\n",
        "# Train a logistic regression model\n",
        "estimator = LogisticRegression().fit(X_train, y_train)\n",
        "\n",
        "# Predict the test set\n",
        "y_pred = estimator.predict(X_test)\n",
        "\n",
        "# Compute the positive likelihood ratio\n",
        "pos_LR, neg_LR = class_likelihood_ratios(y_test, y_pred)\n",
        "print(f\"LR+: {pos_LR:.3f}\")"
      ],
      "metadata": {
        "colab": {
          "base_uri": "https://localhost:8080/"
        },
        "id": "AWOqgw2UQHTg",
        "outputId": "b947fcb8-bdd7-4d3f-c011-52dde579a6a2"
      },
      "execution_count": 4,
      "outputs": [
        {
          "output_type": "stream",
          "name": "stdout",
          "text": [
            "LR+: 12.617\n"
          ]
        }
      ]
    }
  ]
}